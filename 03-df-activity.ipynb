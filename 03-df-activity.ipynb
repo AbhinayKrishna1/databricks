{
 "cells": [
  {
   "cell_type": "markdown",
   "id": "c459104b",
   "metadata": {},
   "source": [
    "# Activity\n",
    "path to file\n",
    "\n",
    "```\n",
    "/datasets/employee_work_records.csv\n",
    "```\n",
    "\n",
    "### Tasks\n",
    "\n",
    "1. Display the first 10 rows of the dataset to understand its schema and contents.\n",
    "2. Print the schema of the DataFrame and identify the data types of each column.\n",
    "3. Count how many rows contain at least one null value.\n",
    "4. Replace all null values in the hours_worked column with the average hours worked (calculated from non-null rows).\n",
    "5. Replace all the null values in location as Remote\n",
    "6. Drop all rows that have a null value in either salary or projects_completed.\n",
    "7. Add a new column named hourly_rate which is calculated as:\n",
    "  `salary / (hours_worked × 4)`\n",
    "8. Group the data by department and calculate:\n",
    "  - Average salary\n",
    "  - Average hours_worked\n",
    "  - Total projects completed\n",
    "9. Group by location and count how many employees work in each location.\n",
    "10. Find the maximum salary and minimum salary\n",
    "11. Filter out employees who have completed more than 5 projects and worked less than 35 hours.\n",
    "12. Create a temporary view named employees.\n",
    "Using Spark SQL:\n",
    "  - Select department-wise employee count and average salary.\n",
    "  - Filter only departments where average salary is above 75,000.\n",
    "  - Write a SQL query to get count of whose salary is above the average salary.\n",
    "13. Create a column bonus_eligible where employees with projects_completed > 5 are marked \"Yes\", else \"No\".\n"
   ]
  },
  {
   "cell_type": "code",
   "execution_count": 1,
   "id": "d4a03814",
   "metadata": {},
   "outputs": [
    {
     "name": "stderr",
     "output_type": "stream",
     "text": [
      "WARNING: Using incubator modules: jdk.incubator.vector\n",
      "Using Spark's default log4j profile: org/apache/spark/log4j2-defaults.properties\n",
      "25/08/06 09:43:02 WARN Utils: Your hostname, codespaces-908b19, resolves to a loopback address: 127.0.0.1; using 10.0.1.103 instead (on interface eth0)\n",
      "25/08/06 09:43:02 WARN Utils: Set SPARK_LOCAL_IP if you need to bind to another address\n",
      "Using Spark's default log4j profile: org/apache/spark/log4j2-defaults.properties\n",
      "Setting default log level to \"WARN\".\n",
      "To adjust logging level use sc.setLogLevel(newLevel). For SparkR, use setLogLevel(newLevel).\n",
      "25/08/06 09:43:03 WARN NativeCodeLoader: Unable to load native-hadoop library for your platform... using builtin-java classes where applicable\n"
     ]
    }
   ],
   "source": [
    "from pyspark.sql import SparkSession\n",
    "\n",
    "spark = SparkSession.builder.appName(\"demoDFEmployee\").getOrCreate()"
   ]
  },
  {
   "cell_type": "code",
   "execution_count": 2,
   "id": "ed3ecfb7",
   "metadata": {},
   "outputs": [],
   "source": [
    "emp_raw=spark.read.csv(\"employee_work_records.csv\",header=True)"
   ]
  },
  {
   "cell_type": "code",
   "execution_count": 3,
   "id": "307d2573",
   "metadata": {},
   "outputs": [
    {
     "data": {
      "text/plain": [
       "[Row(id='1', name='Charlie', age='38', gender='Non-Binary', department='Finance', salary=None, projects_completed='5.0', hours_worked='46.6', location=None),\n",
       " Row(id='2', name='David', age='48', gender='Non-Binary', department='Engineering', salary='92650.0', projects_completed=None, hours_worked='40.0', location=None),\n",
       " Row(id='3', name='Frank', age='28', gender='Female', department='Marketing', salary=None, projects_completed=None, hours_worked='37.3', location='San Francisco'),\n",
       " Row(id='4', name='Bob', age='36', gender='Male', department='Sales', salary='105597.0', projects_completed='8.0', hours_worked='36.9', location=None),\n",
       " Row(id='5', name='Charlie', age='59', gender='Non-Binary', department='HR', salary=None, projects_completed=None, hours_worked='43.5', location='Chicago'),\n",
       " Row(id='6', name='Alice', age='28', gender='Non-Binary', department='Sales', salary=None, projects_completed='5.0', hours_worked='40.4', location=None),\n",
       " Row(id='7', name='Ian', age='33', gender='Male', department='Engineering', salary='87064.0', projects_completed='1.0', hours_worked='41.4', location='Austin'),\n",
       " Row(id='8', name='Grace', age='57', gender='Male', department='HR', salary=None, projects_completed='8.0', hours_worked=None, location='Boston'),\n",
       " Row(id='9', name='Bob', age='22', gender='Male', department='Sales', salary=None, projects_completed=None, hours_worked=None, location=None),\n",
       " Row(id='10', name='Bob', age='40', gender='Male', department='Finance', salary='108732.0', projects_completed=None, hours_worked=None, location='Austin')]"
      ]
     },
     "execution_count": 3,
     "metadata": {},
     "output_type": "execute_result"
    }
   ],
   "source": [
    "#1\n",
    "emp_raw.take(10)"
   ]
  },
  {
   "cell_type": "code",
   "execution_count": 4,
   "id": "5fc0687a",
   "metadata": {},
   "outputs": [
    {
     "name": "stdout",
     "output_type": "stream",
     "text": [
      "root\n",
      " |-- id: string (nullable = true)\n",
      " |-- name: string (nullable = true)\n",
      " |-- age: string (nullable = true)\n",
      " |-- gender: string (nullable = true)\n",
      " |-- department: string (nullable = true)\n",
      " |-- salary: string (nullable = true)\n",
      " |-- projects_completed: string (nullable = true)\n",
      " |-- hours_worked: string (nullable = true)\n",
      " |-- location: string (nullable = true)\n",
      "\n"
     ]
    }
   ],
   "source": [
    "#2\n",
    "\n",
    "emp_raw.printSchema()"
   ]
  },
  {
   "cell_type": "code",
   "execution_count": 5,
   "id": "8f74ca44",
   "metadata": {},
   "outputs": [
    {
     "name": "stdout",
     "output_type": "stream",
     "text": [
      "95\n"
     ]
    }
   ],
   "source": [
    "#3\n",
    "from pyspark.sql.types import *\n",
    "from pyspark.sql.functions import *\n",
    "null_count = emp_raw.filter(\n",
    "    col(\"id\").isNull() |\n",
    "    col(\"name\").isNull() |\n",
    "    col(\"age\").isNull() |\n",
    "    col(\"gender\").isNull() |\n",
    "    col(\"department\").isNull() |\n",
    "    col(\"salary\").isNull() |\n",
    "    col(\"projects_completed\").isNull() |\n",
    "    col(\"hours_worked\").isNull() |\n",
    "    col(\"location\").isNull() ).count()\n",
    "print(null_count)\n",
    "\n"
   ]
  },
  {
   "cell_type": "code",
   "execution_count": 16,
   "id": "1192b420",
   "metadata": {},
   "outputs": [
    {
     "name": "stdout",
     "output_type": "stream",
     "text": [
      "+---+-------+---+----------+-----------+--------+------------------+------------------+-------------+\n",
      "| id|   name|age|    gender| department|  salary|projects_completed|      hours_worked|     location|\n",
      "+---+-------+---+----------+-----------+--------+------------------+------------------+-------------+\n",
      "|  4|    Bob| 36|      Male|      Sales|105597.0|               8.0|              36.9|         NULL|\n",
      "|  7|    Ian| 33|      Male|Engineering| 87064.0|               1.0|              41.4|       Austin|\n",
      "| 30|  David| 32|Non-Binary|      Sales| 63742.0|               4.0|39.707692307692305|         NULL|\n",
      "| 32|Charlie| 47|      Male|         HR|106118.0|               4.0|              33.8|      Chicago|\n",
      "| 34|    Ian| 54|    Female|    Finance| 57109.0|               8.0|              49.3|San Francisco|\n",
      "| 37|  Frank| 29|      Male|  Marketing|100759.0|              10.0|39.707692307692305|San Francisco|\n",
      "| 39|  Frank| 47|      Male|    Finance| 68032.0|               5.0|              49.2|         NULL|\n",
      "| 40|    Eve| 53|      Male|         HR|105173.0|               4.0|39.707692307692305|      Chicago|\n",
      "| 41|  David| 42|Non-Binary|    Finance| 85819.0|              10.0|39.707692307692305|       Boston|\n",
      "| 42|    Eve| 42|Non-Binary|Engineering| 58761.0|               2.0|              41.2|         NULL|\n",
      "| 47|  Alice| 59|      Male|         HR| 53271.0|               4.0|              46.8|San Francisco|\n",
      "| 50|    Ian| 25|      Male|    Finance| 89060.0|               7.0|39.707692307692305|       Austin|\n",
      "| 52|    Ian| 44|    Female|Engineering|105679.0|               3.0|39.707692307692305|         NULL|\n",
      "| 53|Charlie| 49|    Female|  Marketing| 66921.0|               6.0|39.707692307692305|         NULL|\n",
      "| 55|    Ian| 54|Non-Binary|  Marketing| 47775.0|               4.0|              43.3|         NULL|\n",
      "| 59|    Bob| 60|      Male|    Finance| 44787.0|               2.0|39.707692307692305|         NULL|\n",
      "| 62|    Eve| 23|Non-Binary|  Marketing| 85717.0|               0.0|              38.4|         NULL|\n",
      "| 67|    Ian| 54|      Male|         HR| 53865.0|               3.0|39.707692307692305|     New York|\n",
      "| 69|   Judy| 50|    Female|      Sales| 99788.0|              10.0|39.707692307692305|         NULL|\n",
      "| 70|  Frank| 48|      Male|      Sales| 77362.0|               5.0|              31.5|         NULL|\n",
      "+---+-------+---+----------+-----------+--------+------------------+------------------+-------------+\n",
      "only showing top 20 rows\n"
     ]
    }
   ],
   "source": [
    "#4\n",
    "avg_hours = emp_raw.select(avg(\"hours_worked\")).first()[0]\n",
    "emp_raw = emp_raw.fillna({\"hours_worked\":avg_hours})\n",
    "emp_raw.show()\n"
   ]
  },
  {
   "cell_type": "code",
   "execution_count": 17,
   "id": "3c3061b3",
   "metadata": {},
   "outputs": [
    {
     "name": "stdout",
     "output_type": "stream",
     "text": [
      "+---+-------+---+----------+-----------+--------+------------------+------------------+-------------+\n",
      "| id|   name|age|    gender| department|  salary|projects_completed|      hours_worked|     location|\n",
      "+---+-------+---+----------+-----------+--------+------------------+------------------+-------------+\n",
      "|  4|    Bob| 36|      Male|      Sales|105597.0|               8.0|              36.9|       Remote|\n",
      "|  7|    Ian| 33|      Male|Engineering| 87064.0|               1.0|              41.4|       Austin|\n",
      "| 30|  David| 32|Non-Binary|      Sales| 63742.0|               4.0|39.707692307692305|       Remote|\n",
      "| 32|Charlie| 47|      Male|         HR|106118.0|               4.0|              33.8|      Chicago|\n",
      "| 34|    Ian| 54|    Female|    Finance| 57109.0|               8.0|              49.3|San Francisco|\n",
      "| 37|  Frank| 29|      Male|  Marketing|100759.0|              10.0|39.707692307692305|San Francisco|\n",
      "| 39|  Frank| 47|      Male|    Finance| 68032.0|               5.0|              49.2|       Remote|\n",
      "| 40|    Eve| 53|      Male|         HR|105173.0|               4.0|39.707692307692305|      Chicago|\n",
      "| 41|  David| 42|Non-Binary|    Finance| 85819.0|              10.0|39.707692307692305|       Boston|\n",
      "| 42|    Eve| 42|Non-Binary|Engineering| 58761.0|               2.0|              41.2|       Remote|\n",
      "| 47|  Alice| 59|      Male|         HR| 53271.0|               4.0|              46.8|San Francisco|\n",
      "| 50|    Ian| 25|      Male|    Finance| 89060.0|               7.0|39.707692307692305|       Austin|\n",
      "| 52|    Ian| 44|    Female|Engineering|105679.0|               3.0|39.707692307692305|       Remote|\n",
      "| 53|Charlie| 49|    Female|  Marketing| 66921.0|               6.0|39.707692307692305|       Remote|\n",
      "| 55|    Ian| 54|Non-Binary|  Marketing| 47775.0|               4.0|              43.3|       Remote|\n",
      "| 59|    Bob| 60|      Male|    Finance| 44787.0|               2.0|39.707692307692305|       Remote|\n",
      "| 62|    Eve| 23|Non-Binary|  Marketing| 85717.0|               0.0|              38.4|       Remote|\n",
      "| 67|    Ian| 54|      Male|         HR| 53865.0|               3.0|39.707692307692305|     New York|\n",
      "| 69|   Judy| 50|    Female|      Sales| 99788.0|              10.0|39.707692307692305|       Remote|\n",
      "| 70|  Frank| 48|      Male|      Sales| 77362.0|               5.0|              31.5|       Remote|\n",
      "+---+-------+---+----------+-----------+--------+------------------+------------------+-------------+\n",
      "only showing top 20 rows\n"
     ]
    }
   ],
   "source": [
    "#5\n",
    "emp_raw = new1.fillna({\"location\": \"Remote\"})\n",
    "emp_raw.show()\n",
    "\n"
   ]
  },
  {
   "cell_type": "code",
   "execution_count": 18,
   "id": "2af48c7b",
   "metadata": {},
   "outputs": [
    {
     "name": "stdout",
     "output_type": "stream",
     "text": [
      "+---+-------+---+----------+-----------+--------+------------------+------------------+-------------+\n",
      "| id|   name|age|    gender| department|  salary|projects_completed|      hours_worked|     location|\n",
      "+---+-------+---+----------+-----------+--------+------------------+------------------+-------------+\n",
      "|  4|    Bob| 36|      Male|      Sales|105597.0|               8.0|              36.9|       Remote|\n",
      "|  7|    Ian| 33|      Male|Engineering| 87064.0|               1.0|              41.4|       Austin|\n",
      "| 30|  David| 32|Non-Binary|      Sales| 63742.0|               4.0|39.707692307692305|       Remote|\n",
      "| 32|Charlie| 47|      Male|         HR|106118.0|               4.0|              33.8|      Chicago|\n",
      "| 34|    Ian| 54|    Female|    Finance| 57109.0|               8.0|              49.3|San Francisco|\n",
      "| 37|  Frank| 29|      Male|  Marketing|100759.0|              10.0|39.707692307692305|San Francisco|\n",
      "| 39|  Frank| 47|      Male|    Finance| 68032.0|               5.0|              49.2|       Remote|\n",
      "| 40|    Eve| 53|      Male|         HR|105173.0|               4.0|39.707692307692305|      Chicago|\n",
      "| 41|  David| 42|Non-Binary|    Finance| 85819.0|              10.0|39.707692307692305|       Boston|\n",
      "| 42|    Eve| 42|Non-Binary|Engineering| 58761.0|               2.0|              41.2|       Remote|\n",
      "| 47|  Alice| 59|      Male|         HR| 53271.0|               4.0|              46.8|San Francisco|\n",
      "| 50|    Ian| 25|      Male|    Finance| 89060.0|               7.0|39.707692307692305|       Austin|\n",
      "| 52|    Ian| 44|    Female|Engineering|105679.0|               3.0|39.707692307692305|       Remote|\n",
      "| 53|Charlie| 49|    Female|  Marketing| 66921.0|               6.0|39.707692307692305|       Remote|\n",
      "| 55|    Ian| 54|Non-Binary|  Marketing| 47775.0|               4.0|              43.3|       Remote|\n",
      "| 59|    Bob| 60|      Male|    Finance| 44787.0|               2.0|39.707692307692305|       Remote|\n",
      "| 62|    Eve| 23|Non-Binary|  Marketing| 85717.0|               0.0|              38.4|       Remote|\n",
      "| 67|    Ian| 54|      Male|         HR| 53865.0|               3.0|39.707692307692305|     New York|\n",
      "| 69|   Judy| 50|    Female|      Sales| 99788.0|              10.0|39.707692307692305|       Remote|\n",
      "| 70|  Frank| 48|      Male|      Sales| 77362.0|               5.0|              31.5|       Remote|\n",
      "+---+-------+---+----------+-----------+--------+------------------+------------------+-------------+\n",
      "only showing top 20 rows\n"
     ]
    }
   ],
   "source": [
    "#6\n",
    "emp_raw = emp_raw.dropna(subset=[\"salary\", \"projects_completed\"])\n",
    "emp_raw.show()\n"
   ]
  },
  {
   "cell_type": "code",
   "execution_count": 37,
   "id": "42322ae7",
   "metadata": {},
   "outputs": [
    {
     "name": "stdout",
     "output_type": "stream",
     "text": [
      "+---+-------+---+----------+-----------+--------+------------------+------------------+-------------+------------------+\n",
      "| id|   name|age|    gender| department|  salary|projects_completed|      hours_worked|     location|       hourly_rate|\n",
      "+---+-------+---+----------+-----------+--------+------------------+------------------+-------------+------------------+\n",
      "|  4|    Bob| 36|      Male|      Sales|105597.0|               8.0|              36.9|       Remote| 715.4268292682927|\n",
      "|  7|    Ian| 33|      Male|Engineering| 87064.0|               1.0|              41.4|       Austin| 525.7487922705315|\n",
      "| 30|  David| 32|Non-Binary|      Sales| 63742.0|               4.0|39.707692307692305|       Remote|401.32022471910113|\n",
      "| 32|Charlie| 47|      Male|         HR|106118.0|               4.0|              33.8|      Chicago| 784.8964497041421|\n",
      "| 34|    Ian| 54|    Female|    Finance| 57109.0|               8.0|              49.3|San Francisco| 289.5993914807302|\n",
      "| 37|  Frank| 29|      Male|  Marketing|100759.0|              10.0|39.707692307692305|San Francisco| 634.3796009298721|\n",
      "| 39|  Frank| 47|      Male|    Finance| 68032.0|               5.0|              49.2|       Remote| 345.6910569105691|\n",
      "| 40|    Eve| 53|      Male|         HR|105173.0|               4.0|39.707692307692305|      Chicago| 662.1701859744286|\n",
      "| 41|  David| 42|Non-Binary|    Finance| 85819.0|              10.0|39.707692307692305|       Boston|  540.317222006974|\n",
      "| 42|    Eve| 42|Non-Binary|Engineering| 58761.0|               2.0|              41.2|       Remote|356.55946601941747|\n",
      "| 47|  Alice| 59|      Male|         HR| 53271.0|               4.0|              46.8|San Francisco|284.56730769230774|\n",
      "| 50|    Ian| 25|      Male|    Finance| 89060.0|               7.0|39.707692307692305|       Austin| 560.7225881441302|\n",
      "| 52|    Ian| 44|    Female|Engineering|105679.0|               3.0|39.707692307692305|       Remote| 665.3559666795816|\n",
      "| 53|Charlie| 49|    Female|  Marketing| 66921.0|               6.0|39.707692307692305|       Remote| 421.3352382797366|\n",
      "| 55|    Ian| 54|Non-Binary|  Marketing| 47775.0|               4.0|              43.3|       Remote|275.83718244803697|\n",
      "| 59|    Bob| 60|      Male|    Finance| 44787.0|               2.0|39.707692307692305|       Remote|281.97936846183654|\n",
      "| 62|    Eve| 23|Non-Binary|  Marketing| 85717.0|               0.0|              38.4|       Remote| 558.0533854166667|\n",
      "| 67|    Ian| 54|      Male|         HR| 53865.0|               3.0|39.707692307692305|     New York| 339.1345408756296|\n",
      "| 69|   Judy| 50|    Female|      Sales| 99788.0|              10.0|39.707692307692305|       Remote| 628.2661759008137|\n",
      "| 70|  Frank| 48|      Male|      Sales| 77362.0|               5.0|              31.5|       Remote|  613.984126984127|\n",
      "+---+-------+---+----------+-----------+--------+------------------+------------------+-------------+------------------+\n",
      "only showing top 20 rows\n"
     ]
    }
   ],
   "source": [
    "#7\n",
    "emp_raw = emp_raw.withColumn(\"salary\", col(\"salary\").cast(\"double\")) \\\n",
    "                    .withColumn(\"hours_worked\", col(\"hours_worked\").cast(\"double\")) \\\n",
    "                    .withColumn(\"age\", col(\"age\").cast(\"int\")) \\\n",
    "                    .withColumn(\"projects_completed\",col(\"projects_completed\").cast(\"double\")) \\\n",
    "                    .withColumn(\"id\", col(\"id\").cast(\"int\"))\n",
    "emp_raw = emp_raw.withColumn(\"hourly_rate\", col(\"salary\") / (col(\"hours_worked\") * 4))\n",
    "emp_raw.show()\n",
    "\n"
   ]
  },
  {
   "cell_type": "code",
   "execution_count": 38,
   "id": "28591123",
   "metadata": {},
   "outputs": [
    {
     "name": "stdout",
     "output_type": "stream",
     "text": [
      "+-----------+-----------------+------------------+------------------------+\n",
      "| department|       avg_salary|  avg_hours_worked|total_projects_completed|\n",
      "+-----------+-----------------+------------------+------------------------+\n",
      "|      Sales|         86622.25| 36.95384615384615|                    27.0|\n",
      "|Engineering|         84625.75| 39.20192307692307|                    15.0|\n",
      "|         HR|75329.28571428571| 39.51868131868132|                    24.0|\n",
      "|    Finance|          74568.0|42.888461538461534|                    33.0|\n",
      "|  Marketing|          80327.2| 38.76307692307692|                    25.0|\n",
      "+-----------+-----------------+------------------+------------------------+\n",
      "\n"
     ]
    }
   ],
   "source": [
    "#8\n",
    "emp_raw.groupBy(\"department\").agg(avg(\"salary\").alias(\"avg_salary\"),avg(\"hours_worked\").alias(\"avg_hours_worked\"),sum(\"projects_completed\").alias(\"total_projects_completed\")).show()\n"
   ]
  },
  {
   "cell_type": "code",
   "execution_count": 39,
   "id": "004f59cb",
   "metadata": {},
   "outputs": [
    {
     "name": "stdout",
     "output_type": "stream",
     "text": [
      "+-------------+---------------+\n",
      "|     location|total_employees|\n",
      "+-------------+---------------+\n",
      "|       Remote|             15|\n",
      "|San Francisco|              3|\n",
      "|       Austin|              3|\n",
      "|      Chicago|              2|\n",
      "|     New York|              1|\n",
      "|       Boston|              2|\n",
      "+-------------+---------------+\n",
      "\n"
     ]
    }
   ],
   "source": [
    "#9\n",
    "emp_raw.groupBy(\"location\").agg(count(\"id\").alias(\"total_employees\")).show()"
   ]
  },
  {
   "cell_type": "code",
   "execution_count": 40,
   "id": "ee40e232",
   "metadata": {},
   "outputs": [
    {
     "name": "stdout",
     "output_type": "stream",
     "text": [
      "+----------+----------+\n",
      "|Max_salary|Min_salary|\n",
      "+----------+----------+\n",
      "|  115186.0|   40228.0|\n",
      "+----------+----------+\n",
      "\n"
     ]
    }
   ],
   "source": [
    "#10\n",
    "emp_raw.agg(max(\"salary\").alias(\"Max_salary\"),min(\"salary\").alias(\"Min_salary\")).show()"
   ]
  },
  {
   "cell_type": "code",
   "execution_count": 41,
   "id": "b412d227",
   "metadata": {},
   "outputs": [
    {
     "name": "stdout",
     "output_type": "stream",
     "text": [
      "+---+----+---+------+-----------+-------+------------------+------------+--------+----------------+\n",
      "| id|name|age|gender| department| salary|projects_completed|hours_worked|location|     hourly_rate|\n",
      "+---+----+---+------+-----------+-------+------------------+------------+--------+----------------+\n",
      "| 92| Ian| 51|  Male|Engineering|86999.0|               9.0|        34.5|  Remote|630.427536231884|\n",
      "+---+----+---+------+-----------+-------+------------------+------------+--------+----------------+\n",
      "\n"
     ]
    }
   ],
   "source": [
    "#11\n",
    "emp_raw.filter((col(\"projects_completed\")>5) & (col(\"hours_worked\")<35)).show()"
   ]
  },
  {
   "cell_type": "code",
   "execution_count": 54,
   "id": "562d46bb",
   "metadata": {},
   "outputs": [
    {
     "name": "stdout",
     "output_type": "stream",
     "text": [
      "+-----------+---------+-----------------+\n",
      "| department|emp_count|          avg_sal|\n",
      "+-----------+---------+-----------------+\n",
      "|      Sales|        4|         86622.25|\n",
      "|Engineering|        4|         84625.75|\n",
      "|         HR|        7|75329.28571428571|\n",
      "|    Finance|        6|          74568.0|\n",
      "|  Marketing|        5|          80327.2|\n",
      "+-----------+---------+-----------------+\n",
      "\n",
      "+-----------+\n",
      "| department|\n",
      "+-----------+\n",
      "|      Sales|\n",
      "|Engineering|\n",
      "|         HR|\n",
      "|  Marketing|\n",
      "+-----------+\n",
      "\n",
      "+-----+\n",
      "|count|\n",
      "+-----+\n",
      "|   14|\n",
      "+-----+\n",
      "\n"
     ]
    }
   ],
   "source": [
    "#12\n",
    "emp_raw.createOrReplaceTempView(\"employees\")\n",
    "spark.sql(\"select department,count(id) as emp_count,avg(salary) as avg_sal from employees group by department\").show()\n",
    "spark.sql(\"select department from employees group by department having avg(salary)>75000\").show()\n",
    "spark.sql(\"select count(id) as count from employees where salary >(select avg(salary) from employees)\").show()"
   ]
  },
  {
   "cell_type": "code",
   "execution_count": null,
   "id": "1f876b91",
   "metadata": {},
   "outputs": [
    {
     "name": "stdout",
     "output_type": "stream",
     "text": [
      "+---+-------+---+----------+-----------+--------+------------------+------------------+-------------+------------------+--------------+\n",
      "| id|   name|age|    gender| department|  salary|projects_completed|      hours_worked|     location|       hourly_rate|bonus_eligible|\n",
      "+---+-------+---+----------+-----------+--------+------------------+------------------+-------------+------------------+--------------+\n",
      "|  4|    Bob| 36|      Male|      Sales|105597.0|               8.0|              36.9|       Remote| 715.4268292682927|           Yes|\n",
      "|  7|    Ian| 33|      Male|Engineering| 87064.0|               1.0|              41.4|       Austin| 525.7487922705315|            No|\n",
      "| 30|  David| 32|Non-Binary|      Sales| 63742.0|               4.0|39.707692307692305|       Remote|401.32022471910113|            No|\n",
      "| 32|Charlie| 47|      Male|         HR|106118.0|               4.0|              33.8|      Chicago| 784.8964497041421|            No|\n",
      "| 34|    Ian| 54|    Female|    Finance| 57109.0|               8.0|              49.3|San Francisco| 289.5993914807302|           Yes|\n",
      "| 37|  Frank| 29|      Male|  Marketing|100759.0|              10.0|39.707692307692305|San Francisco| 634.3796009298721|           Yes|\n",
      "| 39|  Frank| 47|      Male|    Finance| 68032.0|               5.0|              49.2|       Remote| 345.6910569105691|            No|\n",
      "| 40|    Eve| 53|      Male|         HR|105173.0|               4.0|39.707692307692305|      Chicago| 662.1701859744286|            No|\n",
      "| 41|  David| 42|Non-Binary|    Finance| 85819.0|              10.0|39.707692307692305|       Boston|  540.317222006974|           Yes|\n",
      "| 42|    Eve| 42|Non-Binary|Engineering| 58761.0|               2.0|              41.2|       Remote|356.55946601941747|            No|\n",
      "| 47|  Alice| 59|      Male|         HR| 53271.0|               4.0|              46.8|San Francisco|284.56730769230774|            No|\n",
      "| 50|    Ian| 25|      Male|    Finance| 89060.0|               7.0|39.707692307692305|       Austin| 560.7225881441302|           Yes|\n",
      "| 52|    Ian| 44|    Female|Engineering|105679.0|               3.0|39.707692307692305|       Remote| 665.3559666795816|            No|\n",
      "| 53|Charlie| 49|    Female|  Marketing| 66921.0|               6.0|39.707692307692305|       Remote| 421.3352382797366|           Yes|\n",
      "| 55|    Ian| 54|Non-Binary|  Marketing| 47775.0|               4.0|              43.3|       Remote|275.83718244803697|            No|\n",
      "| 59|    Bob| 60|      Male|    Finance| 44787.0|               2.0|39.707692307692305|       Remote|281.97936846183654|            No|\n",
      "| 62|    Eve| 23|Non-Binary|  Marketing| 85717.0|               0.0|              38.4|       Remote| 558.0533854166667|            No|\n",
      "| 67|    Ian| 54|      Male|         HR| 53865.0|               3.0|39.707692307692305|     New York| 339.1345408756296|            No|\n",
      "| 69|   Judy| 50|    Female|      Sales| 99788.0|              10.0|39.707692307692305|       Remote| 628.2661759008137|           Yes|\n",
      "| 70|  Frank| 48|      Male|      Sales| 77362.0|               5.0|              31.5|       Remote|  613.984126984127|            No|\n",
      "+---+-------+---+----------+-----------+--------+------------------+------------------+-------------+------------------+--------------+\n",
      "only showing top 20 rows\n"
     ]
    }
   ],
   "source": [
    "#13\n",
    "emp_raw=emp_raw.withColumn(\"bonus_eligible\",when(col(\"projects_completed\")>5,\"Yes\").otherwise (\"No\"))\n",
    "emp_raw.show()"
   ]
  }
 ],
 "metadata": {
  "kernelspec": {
   "display_name": "Python 3",
   "language": "python",
   "name": "python3"
  },
  "language_info": {
   "codemirror_mode": {
    "name": "ipython",
    "version": 3
   },
   "file_extension": ".py",
   "mimetype": "text/x-python",
   "name": "python",
   "nbconvert_exporter": "python",
   "pygments_lexer": "ipython3",
   "version": "3.12.1"
  }
 },
 "nbformat": 4,
 "nbformat_minor": 5
}
