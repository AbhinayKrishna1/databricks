{
 "cells": [
  {
   "cell_type": "code",
   "execution_count": null,
   "id": "b47f0132",
   "metadata": {},
   "outputs": [],
   "source": [
    "from pyspark.sql.functions import col,av\n",
    "from pyspark.sql import SparkSession\n",
    "\n",
    "spark = SparkSession.builder.appName(\"HogwartsAnalysis\").getOrCreate()\n"
   ]
  },
  {
   "cell_type": "code",
   "execution_count": 10,
   "id": "269ffcff",
   "metadata": {},
   "outputs": [],
   "source": [
    "data = [\n",
    "    (\"Gryffindor\", 1, 80, \"Harry Potter\"),\n",
    "    (\"Slytherin\", 1, 60, \"Draco Malfoy\"),\n",
    "    (\"Ravenclaw\", 1, 45, \"Luna Lovegood\"),\n",
    "    (\"Hufflepuff\", 1, 30, \"Cedric Diggory\"),\n",
    "    (\"Gryffindor\", 2, 90, \"Hermione Granger\"),\n",
    "    (\"Slytherin\", 2, 70, \"Pansy Parkinson\"),\n",
    "    (\"Ravenclaw\", 2, 55, \"Cho Chang\"),\n",
    "    (\"Hufflepuff\", 2, 65, \"Hannah Abbott\"),\n",
    "    (\"Gryffindor\", 3, 20, \"Ron Weasley\"),\n",
    "    (\"Slytherin\", 3, 85, \"Blaise Zabini\")\n",
    "]"
   ]
  },
  {
   "cell_type": "code",
   "execution_count": 11,
   "id": "47b9d530",
   "metadata": {},
   "outputs": [
    {
     "name": "stdout",
     "output_type": "stream",
     "text": [
      "+----------+----+------+----------------+\n",
      "|     house|year|points|         student|\n",
      "+----------+----+------+----------------+\n",
      "|Gryffindor|   1|    80|    Harry Potter|\n",
      "| Slytherin|   1|    60|    Draco Malfoy|\n",
      "| Ravenclaw|   1|    45|   Luna Lovegood|\n",
      "|Hufflepuff|   1|    30|  Cedric Diggory|\n",
      "|Gryffindor|   2|    90|Hermione Granger|\n",
      "| Slytherin|   2|    70| Pansy Parkinson|\n",
      "| Ravenclaw|   2|    55|       Cho Chang|\n",
      "|Hufflepuff|   2|    65|   Hannah Abbott|\n",
      "|Gryffindor|   3|    20|     Ron Weasley|\n",
      "| Slytherin|   3|    85|   Blaise Zabini|\n",
      "+----------+----+------+----------------+\n",
      "\n"
     ]
    }
   ],
   "source": [
    "columns = [\"house\", \"year\", \"points\", \"student\"]\n",
    "df = spark.createDataFrame(data, columns)\n",
    "df.show()"
   ]
  },
  {
   "cell_type": "code",
   "execution_count": 30,
   "id": "820ec1df",
   "metadata": {},
   "outputs": [
    {
     "name": "stdout",
     "output_type": "stream",
     "text": [
      "+----------+----+------------+\n",
      "|     house|year|total_points|\n",
      "+----------+----+------------+\n",
      "|Gryffindor|   1|          80|\n",
      "| Slytherin|   1|          60|\n",
      "|Gryffindor|   2|          90|\n",
      "| Slytherin|   2|          70|\n",
      "|Hufflepuff|   2|          65|\n",
      "| Ravenclaw|   2|          55|\n",
      "| Slytherin|   3|          85|\n",
      "+----------+----+------------+\n",
      "\n"
     ]
    }
   ],
   "source": [
    "new_df=df.filter(col(\"points\")>50).groupBy(\"house\",\"year\").agg(sum(\"points\").alias(\"total_points\"))\n",
    "final_df=new_df.orderBy(col(\"year\"),col(\"total_points\").desc())\n",
    "final_df.show()"
   ]
  },
  {
   "cell_type": "code",
   "execution_count": 64,
   "id": "df21e271",
   "metadata": {},
   "outputs": [],
   "source": [
    "data = [\n",
    "    (\"Aragorn\", \"Human\", 10, 2, \"Helms Deep\"),\n",
    "    (\"Legolas\", \"Elf\", 15, 0, \"Helms Deep\"),\n",
    "    (\"Gimli\", \"Dwarf\", 8, 3, \"Helms Deep\"),\n",
    "    (\"Frodo\", \"Hobbit\", 2, 1, \"Moria\"),\n",
    "    (\"Sam\", \"Hobbit\", 4, 2, \"Moria\"),\n",
    "    (\"Gandalf\", \"Wizard\", 12, 1, \"Moria\"),\n",
    "    (\"Boromir\", \"Human\", 7, 4, \"Amon Hen\"),\n",
    "    (\"Legolas\", \"Elf\", 20, 0, \"Amon Hen\"),\n",
    "    (\"Aragorn\", \"Human\", 9, 2, \"Amon Hen\")\n",
    "]\n"
   ]
  },
  {
   "cell_type": "code",
   "execution_count": 65,
   "id": "b8be28ec",
   "metadata": {},
   "outputs": [
    {
     "name": "stdout",
     "output_type": "stream",
     "text": [
      "+-------+------+----------------+--------+----------+\n",
      "|   name|  race|enemies_defeated|injuries|    battle|\n",
      "+-------+------+----------------+--------+----------+\n",
      "|Aragorn| Human|              10|       2|Helms Deep|\n",
      "|Legolas|   Elf|              15|       0|Helms Deep|\n",
      "|  Gimli| Dwarf|               8|       3|Helms Deep|\n",
      "|  Frodo|Hobbit|               2|       1|     Moria|\n",
      "|    Sam|Hobbit|               4|       2|     Moria|\n",
      "|Gandalf|Wizard|              12|       1|     Moria|\n",
      "|Boromir| Human|               7|       4|  Amon Hen|\n",
      "|Legolas|   Elf|              20|       0|  Amon Hen|\n",
      "|Aragorn| Human|               9|       2|  Amon Hen|\n",
      "+-------+------+----------------+--------+----------+\n",
      "\n"
     ]
    }
   ],
   "source": [
    "columns = [\"name\", \"race\", \"enemies_defeated\", \"injuries\", \"battle\"]\n",
    "df = spark.createDataFrame(data, columns)\n",
    "df.show()\n"
   ]
  },
  {
   "cell_type": "code",
   "execution_count": 73,
   "id": "bff3ecf9",
   "metadata": {},
   "outputs": [
    {
     "name": "stdout",
     "output_type": "stream",
     "text": [
      "+------+-----------------+\n",
      "|  race|           avg_ed|\n",
      "+------+-----------------+\n",
      "|   Elf|             17.5|\n",
      "|Wizard|             12.0|\n",
      "| Human|8.666666666666666|\n",
      "| Dwarf|              8.0|\n",
      "+------+-----------------+\n",
      "\n"
     ]
    }
   ],
   "source": [
    "from pyspark.sql.functions import *\n",
    "new_df=df.select(\"name\",\"race\",\"enemies_defeated\")\n",
    "new_filtered=new_df.filter(col(\"enemies_defeated\")>5).select(\"name\",\"race\",\"enemies_defeated\")\n",
    "grouped_df=new_filtered.groupBy(\"race\").agg(avg(col(\"enemies_defeated\")).alias(\"avg_ed\"))\n",
    "final_df=grouped_df.orderBy(col(\"avg_ed\").desc())\n",
    "final_df.show()"
   ]
  },
  {
   "cell_type": "code",
   "execution_count": 52,
   "id": "2f1e28df",
   "metadata": {},
   "outputs": [],
   "source": [
    "data = [\n",
    "    (\"SUB-01\", \"Pacific Strike\", 5, \"Success\"),\n",
    "    (\"SUB-02\", \"Atlantic Surge\", 2, \"Failure\"),\n",
    "    (\"SUB-01\", \"Arctic Blitz\", 4, \"Success\"),\n",
    "    (\"SUB-03\", \"Indian Ocean\", 6, \"Success\"),\n",
    "    (\"SUB-02\", \"Pacific Strike\", 3, \"Success\"),\n",
    "    (\"SUB-01\", \"Coral Sea\", 7, \"Success\"),\n",
    "    (\"SUB-03\", \"Arctic Blitz\", 1, \"Failure\"),\n",
    "    (\"SUB-02\", \"Bering Strait\", 5, \"Success\")\n",
    "]"
   ]
  },
  {
   "cell_type": "code",
   "execution_count": 53,
   "id": "28a1cd78",
   "metadata": {},
   "outputs": [
    {
     "name": "stdout",
     "output_type": "stream",
     "text": [
      "+------------+--------------+-----------------+-------+\n",
      "|submarine_id|  mission_name|warheads_launched| status|\n",
      "+------------+--------------+-----------------+-------+\n",
      "|      SUB-01|Pacific Strike|                5|Success|\n",
      "|      SUB-02|Atlantic Surge|                2|Failure|\n",
      "|      SUB-01|  Arctic Blitz|                4|Success|\n",
      "|      SUB-03|  Indian Ocean|                6|Success|\n",
      "|      SUB-02|Pacific Strike|                3|Success|\n",
      "|      SUB-01|     Coral Sea|                7|Success|\n",
      "|      SUB-03|  Arctic Blitz|                1|Failure|\n",
      "|      SUB-02| Bering Strait|                5|Success|\n",
      "+------------+--------------+-----------------+-------+\n",
      "\n"
     ]
    }
   ],
   "source": [
    "columns = [\"submarine_id\", \"mission_name\", \"warheads_launched\", \"status\"]\n",
    "df = spark.createDataFrame(data, columns)\n",
    "df.show()"
   ]
  },
  {
   "cell_type": "code",
   "execution_count": 56,
   "id": "5a8da3ef",
   "metadata": {},
   "outputs": [
    {
     "name": "stdout",
     "output_type": "stream",
     "text": [
      "+------------+--------------+-----------------+\n",
      "|submarine_id|  mission_name|warheads_launched|\n",
      "+------------+--------------+-----------------+\n",
      "|      SUB-01|Pacific Strike|                5|\n",
      "|      SUB-01|  Arctic Blitz|                4|\n",
      "|      SUB-03|  Indian Ocean|                6|\n",
      "|      SUB-01|     Coral Sea|                7|\n",
      "|      SUB-02| Bering Strait|                5|\n",
      "+------------+--------------+-----------------+\n",
      "\n"
     ]
    }
   ],
   "source": [
    "filt_df = df.filter((col(\"status\") == \"Success\") & (col(\"warheads_launched\") > 3)).select(\"submarine_id\", \"mission_name\", \"warheads_launched\")\n",
    "filt_df.show()"
   ]
  },
  {
   "cell_type": "code",
   "execution_count": 62,
   "id": "f79d7392",
   "metadata": {},
   "outputs": [
    {
     "name": "stdout",
     "output_type": "stream",
     "text": [
      "+------------+-----------------+--------------+\n",
      "|submarine_id|count_of_missions|total-warheads|\n",
      "+------------+-----------------+--------------+\n",
      "|      SUB-01|                3|            16|\n",
      "|      SUB-03|                1|             6|\n",
      "|      SUB-02|                1|             5|\n",
      "+------------+-----------------+--------------+\n",
      "\n"
     ]
    }
   ],
   "source": [
    "grouped_df=filt_df.groupBy(\"submarine_id\").agg(count(col(\"mission_name\")).alias(\"count_of_missions\"),sum(col(\"warheads_launched\")).alias(\"total-warheads\"))\n",
    "final_df=grouped_df.orderBy(col(\"total-warheads\").desc())\n",
    "final_df.show()"
   ]
  }
 ],
 "metadata": {
  "kernelspec": {
   "display_name": "Python 3",
   "language": "python",
   "name": "python3"
  },
  "language_info": {
   "codemirror_mode": {
    "name": "ipython",
    "version": 3
   },
   "file_extension": ".py",
   "mimetype": "text/x-python",
   "name": "python",
   "nbconvert_exporter": "python",
   "pygments_lexer": "ipython3",
   "version": "3.12.1"
  }
 },
 "nbformat": 4,
 "nbformat_minor": 5
}
